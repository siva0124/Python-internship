{
  "nbformat": 4,
  "nbformat_minor": 0,
  "metadata": {
    "colab": {
      "provenance": [],
      "authorship_tag": "ABX9TyOP569b7cv0CYMvcmDFtx/1",
      "include_colab_link": true
    },
    "kernelspec": {
      "name": "python3",
      "display_name": "Python 3"
    },
    "language_info": {
      "name": "python"
    }
  },
  "cells": [
    {
      "cell_type": "markdown",
      "metadata": {
        "id": "view-in-github",
        "colab_type": "text"
      },
      "source": [
        "<a href=\"https://colab.research.google.com/github/siva0124/Python-internship/blob/main/Python_Password_Generator.ipynb\" target=\"_parent\"><img src=\"https://colab.research.google.com/assets/colab-badge.svg\" alt=\"Open In Colab\"/></a>"
      ]
    },
    {
      "cell_type": "code",
      "execution_count": 3,
      "metadata": {
        "colab": {
          "base_uri": "https://localhost:8080/"
        },
        "id": "NpDP_y3W-Vem",
        "outputId": "ac2f52be-4855-43f2-b3a1-0791e5a6d16a"
      },
      "outputs": [
        {
          "output_type": "stream",
          "name": "stdout",
          "text": [
            "How many passwords do you want to generate? 4\n",
            "Generating 4 password(s)...\n",
            "Enter the length of Password #1: 4\n",
            "Password #1: bF^^\n",
            "Enter the length of Password #2: 5\n",
            "Password #2: B$26m\n",
            "Enter the length of Password #3: 6\n",
            "Password #3: 5s^Yfm\n",
            "Enter the length of Password #4: 8\n",
            "Password #4: K3yhyz!W\n"
          ]
        }
      ],
      "source": [
        "import random\n",
        "import string\n",
        "\n",
        "def generate_password(length):\n",
        "    if length < 3:\n",
        "        length = 3\n",
        "\n",
        "    alphabet = string.ascii_lowercase\n",
        "    password = random.choices(alphabet, k=length)\n",
        "\n",
        "    num_replacements = random.randint(1, 3)\n",
        "    for _ in range(num_replacements):\n",
        "        idx = random.randint(0, length - 1)\n",
        "        password[idx] = str(random.randint(0, 9))\n",
        "\n",
        "    upper_replacements = random.randint(1, 3)\n",
        "    for _ in range(upper_replacements):\n",
        "        idx = random.randint(0, length - 1)\n",
        "        password[idx] = password[idx].upper()\n",
        "\n",
        "    special_chars = \"!@#$%^&*()\"\n",
        "    special_replacements = random.randint(1, 2)\n",
        "    for _ in range(special_replacements):\n",
        "        idx = random.randint(0, length - 1)\n",
        "        password[idx] = random.choice(special_chars)\n",
        "\n",
        "    return \"\".join(password)\n",
        "\n",
        "def main():\n",
        "    num_passwords = int(input(\"How many passwords do you want to generate? \"))\n",
        "    print(f\"Generating {num_passwords} password(s)...\")\n",
        "\n",
        "    for i in range(num_passwords):\n",
        "        length = int(input(f\"Enter the length of Password #{i+1}: \"))\n",
        "        print(f\"Password #{i+1}: {generate_password(length)}\")\n",
        "\n",
        "if __name__ == \"__main__\":\n",
        "    main()\n"
      ]
    }
  ]
}