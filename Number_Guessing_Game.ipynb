{
  "nbformat": 4,
  "nbformat_minor": 0,
  "metadata": {
    "colab": {
      "provenance": [],
      "authorship_tag": "ABX9TyMBD+XP9lVct3vsxcw6sth2",
      "include_colab_link": true
    },
    "kernelspec": {
      "name": "python3",
      "display_name": "Python 3"
    },
    "language_info": {
      "name": "python"
    }
  },
  "cells": [
    {
      "cell_type": "markdown",
      "metadata": {
        "id": "view-in-github",
        "colab_type": "text"
      },
      "source": [
        "<a href=\"https://colab.research.google.com/github/siva0124/Python-internship/blob/main/Number_Guessing_Game.ipynb\" target=\"_parent\"><img src=\"https://colab.research.google.com/assets/colab-badge.svg\" alt=\"Open In Colab\"/></a>"
      ]
    },
    {
      "cell_type": "code",
      "execution_count": 2,
      "metadata": {
        "colab": {
          "base_uri": "https://localhost:8080/"
        },
        "id": "4wTY4mo-Z3Cn",
        "outputId": "599beb80-223b-476e-a77e-5d219fdea19d"
      },
      "outputs": [
        {
          "output_type": "stream",
          "name": "stdout",
          "text": [
            "\n",
            "What's your name? Hari\n",
            "\n",
            "Hello, Hari! I'm thinking of a number between 1 and 200.\n",
            "\n",
            "You have 6 attempts to guess the number.\n",
            "\n",
            "Attempt 1 - Enter your guess: 150\n",
            "Too low! Try again.\n",
            "\n",
            "Attempt 2 - Enter your guess: 180\n",
            "Too high! Try again.\n",
            "\n",
            "Attempt 3 - Enter your guess: 160\n",
            "Too low! Try again.\n",
            "\n",
            "Attempt 4 - Enter your guess: 165\n",
            "Too low! Try again.\n",
            "\n",
            "Attempt 5 - Enter your guess: 170\n",
            "Too low! Try again.\n",
            "\n",
            "Attempt 6 - Enter your guess: 173\n",
            "Too low! Try again.\n",
            "\n",
            "You're out of attempts! The correct number was 175.\n",
            "\n",
            "Do you want to play again? (yes/no): yes\n",
            "\n",
            "What's your name? Sonu\n",
            "\n",
            "Hello, Sonu! I'm thinking of a number between 1 and 200.\n",
            "\n",
            "You have 6 attempts to guess the number.\n",
            "\n",
            "Attempt 1 - Enter your guess: 180\n",
            "Too high! Try again.\n",
            "\n",
            "Attempt 2 - Enter your guess: 150\n",
            "Too high! Try again.\n",
            "\n",
            "Attempt 3 - Enter your guess: 100\n",
            "Too low! Try again.\n",
            "\n",
            "Attempt 4 - Enter your guess: 125\n",
            "Too low! Try again.\n",
            "\n",
            "Attempt 5 - Enter your guess: 135\n",
            "Too low! Try again.\n",
            "\n",
            "Attempt 6 - Enter your guess: 145\n",
            "Too high! Try again.\n",
            "\n",
            "You're out of attempts! The correct number was 137.\n",
            "\n",
            "Do you want to play again? (yes/no): no\n",
            "Thanks for playing! Goodbye!\n"
          ]
        }
      ],
      "source": [
        "#Number Guessing Game\n",
        "import random\n",
        "import time\n",
        "\n",
        "def get_player_name():\n",
        "    name = input(\"\\nWhat's your name? \")\n",
        "    print(f\"\\nHello, {name}! I'm thinking of a number between 1 and 200.\")\n",
        "    time.sleep(0.5)\n",
        "    return name\n",
        "\n",
        "def play_game():\n",
        "    number = random.randint(1, 200)\n",
        "    attempts = 6\n",
        "\n",
        "    print(\"\\nYou have 6 attempts to guess the number.\")\n",
        "\n",
        "    for guess_count in range(1, attempts + 1):\n",
        "        try:\n",
        "            guess = int(input(f\"\\nAttempt {guess_count} - Enter your guess: \"))\n",
        "\n",
        "            if not 1 <= guess <= 200:\n",
        "                print(\"Out of range! Please enter a number between 1 and 200.\")\n",
        "                continue\n",
        "\n",
        "            if guess < number:\n",
        "                print(\"Too low! Try again.\")\n",
        "            elif guess > number:\n",
        "                print(\"Too high! Try again.\")\n",
        "            else:\n",
        "                print(f\"Congratulations! You guessed it in {guess_count} attempts.\")\n",
        "                return\n",
        "\n",
        "        except ValueError:\n",
        "            print(\"Invalid input! Please enter a valid number.\")\n",
        "\n",
        "    print(f\"\\nYou're out of attempts! The correct number was {number}.\")\n",
        "\n",
        "while True:\n",
        "    player_name = get_player_name()\n",
        "    play_game()\n",
        "\n",
        "    play_again = input(\"\\nDo you want to play again? (yes/no): \").strip().lower()\n",
        "    if play_again not in [\"yes\", \"y\"]:\n",
        "        print(\"Thanks for playing! Goodbye!\")\n",
        "        break"
      ]
    }
  ]
}