{
  "nbformat": 4,
  "nbformat_minor": 0,
  "metadata": {
    "colab": {
      "provenance": [],
      "authorship_tag": "ABX9TyPidL9lg/HnnH1k2zj0Rd5y",
      "include_colab_link": true
    },
    "kernelspec": {
      "name": "python3",
      "display_name": "Python 3"
    },
    "language_info": {
      "name": "python"
    }
  },
  "cells": [
    {
      "cell_type": "markdown",
      "metadata": {
        "id": "view-in-github",
        "colab_type": "text"
      },
      "source": [
        "<a href=\"https://colab.research.google.com/github/siva0124/Python-internship/blob/main/Simple_To_Do_List_Application.ipynb\" target=\"_parent\"><img src=\"https://colab.research.google.com/assets/colab-badge.svg\" alt=\"Open In Colab\"/></a>"
      ]
    },
    {
      "cell_type": "code",
      "execution_count": null,
      "metadata": {
        "colab": {
          "base_uri": "https://localhost:8080/"
        },
        "id": "ik7Ex6L1UQR8",
        "outputId": "0e0287e2-738c-4935-be47-63f8fc3d36ae"
      },
      "outputs": [
        {
          "output_type": "stream",
          "name": "stdout",
          "text": [
            "\n",
            "Options:\n",
            "1. Display to-do list\n",
            "2. Add a task\n",
            "3. Mark a task as completed\n",
            "4. Remove a task\n",
            "5. Quit\n",
            "Enter your choice: 2\n",
            "Enter the task: Hari\n",
            "Task 'Hari' added to your to-do list.\n",
            "\n",
            "Options:\n",
            "1. Display to-do list\n",
            "2. Add a task\n",
            "3. Mark a task as completed\n",
            "4. Remove a task\n",
            "5. Quit\n",
            "Enter your choice: 3\n",
            "\n",
            "To-Do List:\n",
            "1. Hari (Not Done)\n",
            "Enter the task number to mark as completed: 1\n",
            "Task 1 marked as completed.\n",
            "\n",
            "Options:\n",
            "1. Display to-do list\n",
            "2. Add a task\n",
            "3. Mark a task as completed\n",
            "4. Remove a task\n",
            "5. Quit\n",
            "Enter your choice: 1\n",
            "\n",
            "To-Do List:\n",
            "1. Hari (Done)\n",
            "\n",
            "Options:\n",
            "1. Display to-do list\n",
            "2. Add a task\n",
            "3. Mark a task as completed\n",
            "4. Remove a task\n",
            "5. Quit\n",
            "Enter your choice: 4\n",
            "\n",
            "To-Do List:\n",
            "1. Hari (Done)\n",
            "Enter the task number to remove: 1\n",
            "Task 'Hari' removed from your to-do list.\n",
            "\n",
            "Options:\n",
            "1. Display to-do list\n",
            "2. Add a task\n",
            "3. Mark a task as completed\n",
            "4. Remove a task\n",
            "5. Quit\n",
            "Enter your choice: 5\n",
            "Exiting To-Do List Application. Goodbye!\n"
          ]
        }
      ],
      "source": [
        "#To-Do List Application\n",
        "tasks = []\n",
        "\n",
        "def display_tasks():\n",
        "    if not tasks:\n",
        "        print(\"Your to-do list is empty.\")\n",
        "    else:\n",
        "        print(\"\\nTo-Do List:\")\n",
        "        for i, task in enumerate(tasks, start=1):\n",
        "            status = \"Done\" if task[\"completed\"] else \"Not Done\"\n",
        "            print(f\"{i}. {task['task']} ({status})\")\n",
        "\n",
        "def add_task(task_name):\n",
        "    task = {\"task\": task_name, \"completed\": False}\n",
        "    tasks.append(task)\n",
        "    print(f\"Task '{task_name}' added to your to-do list.\")\n",
        "\n",
        "def mark_completed(task_number):\n",
        "    if 1 <= task_number <= len(tasks):\n",
        "        tasks[task_number - 1][\"completed\"] = True\n",
        "        print(f\"Task {task_number} marked as completed.\")\n",
        "    else:\n",
        "        print(\"Invalid task number. Please enter a valid task number.\")\n",
        "\n",
        "def remove_task(task_number):\n",
        "    if 1 <= task_number <= len(tasks):\n",
        "        removed_task = tasks.pop(task_number - 1)\n",
        "        print(f\"Task '{removed_task['task']}' removed from your to-do list.\")\n",
        "    else:\n",
        "        print(\"Invalid task number. Please enter a valid task number.\")\n",
        "\n",
        "while True:\n",
        "    print(\"\\nOptions:\")\n",
        "    print(\"1. Display to-do list\")\n",
        "    print(\"2. Add a task\")\n",
        "    print(\"3. Mark a task as completed\")\n",
        "    print(\"4. Remove a task\")\n",
        "    print(\"5. Quit\")\n",
        "    choice = input(\"Enter your choice: \")\n",
        "\n",
        "    if choice == '1':\n",
        "        display_tasks()\n",
        "    elif choice == '2':\n",
        "        task_name = input(\"Enter the task: \")\n",
        "        add_task(task_name)\n",
        "    elif choice == '3':\n",
        "        display_tasks()\n",
        "        task_number = int(input(\"Enter the task number to mark as completed: \"))\n",
        "        mark_completed(task_number)\n",
        "    elif choice == '4':\n",
        "        display_tasks()\n",
        "        task_number = int(input(\"Enter the task number to remove: \"))\n",
        "        remove_task(task_number)\n",
        "    elif choice == '5':\n",
        "        print(\"Exiting To-Do List Application. Goodbye!\")\n",
        "        break\n",
        "    else:\n",
        "        print(\"Invalid choice. Please enter a valid option.\")"
      ]
    }
  ]
}