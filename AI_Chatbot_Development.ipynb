{
  "nbformat": 4,
  "nbformat_minor": 0,
  "metadata": {
    "colab": {
      "provenance": [],
      "authorship_tag": "ABX9TyOrPE7Fyf+X/9SXv4eAWZgd",
      "include_colab_link": true
    },
    "kernelspec": {
      "name": "python3",
      "display_name": "Python 3"
    },
    "language_info": {
      "name": "python"
    }
  },
  "cells": [
    {
      "cell_type": "markdown",
      "metadata": {
        "id": "view-in-github",
        "colab_type": "text"
      },
      "source": [
        "<a href=\"https://colab.research.google.com/github/siva0124/Python-internship/blob/main/AI_Chatbot_Development.ipynb\" target=\"_parent\"><img src=\"https://colab.research.google.com/assets/colab-badge.svg\" alt=\"Open In Colab\"/></a>"
      ]
    },
    {
      "cell_type": "code",
      "execution_count": 3,
      "metadata": {
        "colab": {
          "base_uri": "https://localhost:8080/"
        },
        "id": "qODg4rqK_WUr",
        "outputId": "93ab6939-01a9-48da-ea0c-2e9a610a91da"
      },
      "outputs": [
        {
          "output_type": "stream",
          "name": "stdout",
          "text": [
            "Chatbot: Hello! What's your name?\n",
            "You: hari\n",
            "Chatbot: Nice to meet you, Hari! Type 'bye' anytime to exit.\n",
            "Hari: ok\n",
            "Chatbot: Let's talk about something else!\n",
            "Hari: how are you\n",
            "Chatbot: Feeling awesome!\n",
            "Hari: what can you do\n",
            "Chatbot: I can assist you with general knowledge, jokes, and even motivational quotes.\n",
            "Hari: tell me a joke\n",
            "Chatbot: Why don’t skeletons fight each other? Because they don’t have the guts!\n",
            "Hari: what is your hobby\n",
            "Chatbot: Helping people is my hobby!\n",
            "Hari: tell me a motivation al quote\n",
            "Chatbot: I'm not sure I understand.\n",
            "Hari: tell me a motivational quote\n",
            "Chatbot: Success is not final, failure is not fatal: It is the courage to continue that counts.\n",
            "Hari: what is ai\n",
            "Chatbot: AI stands for Artificial Intelligence, a technology that enables machines to think like humans.\n",
            "Hari: see you later\n",
            "Chatbot: Let's talk about something else!\n",
            "Hari: bye\n",
            "Chatbot: Goodbye, Hari! Have a great day!\n"
          ]
        }
      ],
      "source": [
        "import random\n",
        "import time\n",
        "\n",
        "responses = {\n",
        "    \"hello\": [\"Hello!\", \"Hi there!\", \"Hey! How can I assist you today?\"],\n",
        "    \"how are you\": [\"I'm doing great! How about you?\", \"I'm good, thanks for asking!\", \"Feeling awesome!\"],\n",
        "    \"your name\": [\"I'm ChatBot!\", \"You can call me AI Assistant.\"],\n",
        "    \"what can you do\": [\n",
        "        \"I can chat with you, tell jokes, give weather updates, answer questions, and more!\",\n",
        "        \"I can assist you with general knowledge, jokes, and even motivational quotes.\"\n",
        "    ],\n",
        "    \"who created you\": [\"I was created by an AI enthusiast.\", \"A talented programmer built me!\"],\n",
        "    \"tell me a joke\": [\n",
        "        \"Why don’t skeletons fight each other? Because they don’t have the guts!\",\n",
        "        \"Why did the scarecrow win an award? Because he was outstanding in his field!\",\n",
        "        \"Why did the math book look sad? Because it had too many problems!\"\n",
        "    ],\n",
        "    \"what is python\": [\"Python is a powerful programming language used for web development, AI, and more.\"],\n",
        "    \"what is ai\": [\"AI stands for Artificial Intelligence, a technology that enables machines to think like humans.\"],\n",
        "    \"what is the capital of india\": [\"The capital of India is New Delhi.\"],\n",
        "    \"who is the president of usa\": [\"As of 2024, the President of the USA is Joe Biden.\"],\n",
        "    \"who is the prime minister of india\": [\"The Prime Minister of India is Narendra Modi.\"],\n",
        "    \"what is the weather\": [\"I can't check live weather, but you can visit weather.com for updates.\"],\n",
        "    \"what is your hobby\": [\"I love chatting and learning new things!\", \"Helping people is my hobby!\"],\n",
        "    \"tell me a motivational quote\": [\n",
        "        \"Believe in yourself and all that you are. Know that there is something inside you greater than any obstacle.\",\n",
        "        \"Success is not final, failure is not fatal: It is the courage to continue that counts.\"\n",
        "    ],\n",
        "    \"solve math\": [\"Sure! Give me a simple math problem, and I'll solve it.\"],\n",
        "    \"bye\": [\"Goodbye!\", \"See you later!\", \"Take care! Have a great day!\"],\n",
        "    \"default\": [\"I'm not sure I understand.\", \"Can you rephrase that?\", \"Let's talk about something else!\"]\n",
        "}\n",
        "\n",
        "def chatbot_response(user_input):\n",
        "    user_input = user_input.lower()\n",
        "\n",
        "    for key in responses:\n",
        "        if key in user_input:\n",
        "            return random.choice(responses[key])\n",
        "\n",
        "    return random.choice(responses[\"default\"])\n",
        "\n",
        "def chatbot():\n",
        "    \"\"\"Chatbot interaction with user\"\"\"\n",
        "    print(\"Chatbot: Hello! What's your name?\")\n",
        "    user_name = input(\"You: \").strip().capitalize()\n",
        "\n",
        "    print(f\"Chatbot: Nice to meet you, {user_name}! Type 'bye' anytime to exit.\")\n",
        "\n",
        "    while True:\n",
        "        user_input = input(f\"{user_name}: \")\n",
        "        if user_input.lower() == \"bye\":\n",
        "            print(f\"Chatbot: Goodbye, {user_name}! Have a great day!\")\n",
        "            break\n",
        "        print(\"Chatbot:\", chatbot_response(user_input))\n",
        "\n",
        "chatbot()"
      ]
    }
  ]
}